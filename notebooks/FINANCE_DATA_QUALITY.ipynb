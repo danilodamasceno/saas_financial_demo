{
 "metadata": {
  "kernelspec": {
   "display_name": "Streamlit Notebook",
   "name": "streamlit"
  },
  "lastEditStatus": {
   "notebookId": "zxzogrsb343zzs2drvuu",
   "authorId": "515399631854",
   "authorName": "DANILODGOMES",
   "authorEmail": "danilo.g.d@hotmail.com",
   "sessionId": "99dacdd7-bf67-4443-b123-2c15b083b9ae",
   "lastEditTime": 1756557680194
  }
 },
 "nbformat_minor": 5,
 "nbformat": 4,
 "cells": [
  {
   "cell_type": "code",
   "id": "3775908f-ca36-4846-8f38-5adca39217f2",
   "metadata": {
    "language": "python",
    "name": "cell1"
   },
   "source": "import pandas as pd\nimport matplotlib.pyplot as plt\nimport seaborn as sns\n\n# set a style \nsns.set(style=\"whitegrid\")\n\n\n# to get the session \nfrom snowflake.snowpark.context import get_active_session\nsession = get_active_session()\n\n# to load the data\ncustomers     = session.table(\"CUSTOMERS\").to_pandas()\nsubscriptions = session.table(\"SUBSCRIPTIONS\").to_pandas()\ninvoices      = session.table(\"INVOICES\").to_pandas()\ncharges       = session.table(\"CHARGES\").to_pandas()\nplan_prices   = session.table(\"PLAN_PRICES\").to_pandas()\nutm_sources   = session.table(\"UTM_SOURCES\").to_pandas()\n",
   "execution_count": null,
   "outputs": []
  },
  {
   "cell_type": "code",
   "id": "adbdad8c-12ef-4092-bcac-9e3b8ad7fd04",
   "metadata": {
    "language": "python",
    "name": "cell2",
    "collapsed": false,
    "codeCollapsed": false
   },
   "outputs": [],
   "source": "# to check null values\ndef check_nulls(df, name):\n    print(f\"\\n=== {name} ===\")\n    print(df.isna().sum().sort_values(ascending=False))\n\ncheck_nulls(customers, \"CUSTOMERS\")\ncheck_nulls(subscriptions, \"SUBSCRIPTIONS\")\ncheck_nulls(invoices, \"INVOICES\")\ncheck_nulls(charges, \"CHARGES\")\ncheck_nulls(plan_prices, \"PLAN_PRICES\")\ncheck_nulls(utm_sources, \"UTM_SOURCES\")",
   "execution_count": null
  },
  {
   "cell_type": "code",
   "id": "2f13fc73-62ef-40cb-bf90-fc751a7c9396",
   "metadata": {
    "language": "python",
    "name": "cell3"
   },
   "outputs": [],
   "source": "# to check the primary keys\ndef check_pk(df, cols, name):\n    dups = df.duplicated(subset=cols).sum()\n    print(f\"[{name}] duplicates by {cols}: {dups}\")\n\ncheck_pk(customers, [\"CUSTOMER_ID\"], \"CUSTOMERS\")\ncheck_pk(plan_prices, [\"PLAN_ID\"], \"PLAN_PRICES\")\ncheck_pk(subscriptions, [\"SUBSCRIPTION_ID\"], \"SUBSCRIPTIONS\")\ncheck_pk(invoices, [\"INVOICE_ID\"], \"INVOICES\")\ncheck_pk(charges, [\"CHARGE_ID\"], \"CHARGES\")\ncheck_pk(utm_sources, [\"UTM_ID\"], \"UTM_SOURCES\")\n",
   "execution_count": null
  },
  {
   "cell_type": "code",
   "id": "02cb2901-c8f1-46b3-89a4-410ccac48a9b",
   "metadata": {
    "language": "python",
    "name": "cell4"
   },
   "outputs": [],
   "source": "# Distribution of Invoice Amount Paid\nplt.figure(figsize=(8,4))\nsns.histplot(invoices[\"AMOUNT_PAID\"].dropna()/100.0, bins=30)\nplt.title(\"Distribution of Invoice Amount Paid (USD)\")\nplt.xlabel(\"Invoice Amount Paid (USD)\")\nplt.show()\n\n#  Distribution of Charge Amounts\nplt.figure(figsize=(8,4))\nsns.histplot(charges[\"AMOUNT\"].dropna()/100.0, bins=30)\nplt.title(\"Distribution of Charge Amounts (USD)\")\nplt.xlabel(\"Charge Amount (USD)\")\nplt.show()",
   "execution_count": null
  },
  {
   "cell_type": "code",
   "id": "54fc42bf-03dd-4304-9334-8094aa9147a6",
   "metadata": {
    "language": "python",
    "name": "cell5"
   },
   "outputs": [],
   "source": "print(\"\\nInvoice amounts summary (USD):\")\nprint((invoices[\"AMOUNT_PAID\"]/100.0).describe())\n\nprint(\"\\nCharges amounts summary (USD):\")\nprint((charges[\"AMOUNT\"]/100.0).describe())\n\nprint(\"\\nDays past due summary:\")\nprint(invoices[\"DAYS_PAST_DUE\"].describe())",
   "execution_count": null
  },
  {
   "cell_type": "code",
   "id": "09967697-da6e-4f79-be85-c4efbfb93fcc",
   "metadata": {
    "language": "python",
    "name": "cell6"
   },
   "outputs": [],
   "source": "# Invoices without Customer\norphan_invoices = invoices[~invoices[\"CUSTOMER_ID\"].isin(customers[\"CUSTOMER_ID\"])]\nprint(f\"Invoices without valid customer: {len(orphan_invoices)}\")\n\n# Invoices without Subscription\norphan_invoices_subs = invoices[~invoices[\"SUBSCRIPTION_ID\"].isin(subscriptions[\"SUBSCRIPTION_ID\"])]\nprint(f\"Invoices without valid subscription: {len(orphan_invoices_subs)}\")\n\n# Charges without Invoice\norphan_charges = charges[~charges[\"INVOICE_ID\"].isin(invoices[\"INVOICE_ID\"])]\nprint(f\"Charges without valid invoice: {len(orphan_charges)}\")\n",
   "execution_count": null
  },
  {
   "cell_type": "code",
   "id": "1f1040d3-0b7f-4e69-a326-e763c6d2a468",
   "metadata": {
    "language": "python",
    "name": "cell7"
   },
   "outputs": [],
   "source": "# check for negative values\nprint(\"Negative invoice amounts:\", (invoices[\"AMOUNT_PAID\"] < 0).sum())\nprint(\"Negative charge amounts:\", (charges[\"AMOUNT\"] < 0).sum())\n\n# check currencys\nprint(\"Unexpected currencies (invoices):\", invoices[~invoices[\"CURRENCY\"].isin([\"usd\",\"USD\"])][\"CURRENCY\"].unique())\n\n# check status\nprint(\"Invoice statuses:\", invoices[\"STATUS\"].unique())\nprint(\"Subscription statuses:\", subscriptions[\"STATUS\"].unique())\nprint(\"Charge statuses:\", charges[\"STATUS\"].unique())",
   "execution_count": null
  },
  {
   "cell_type": "code",
   "id": "02ab3365-5d99-45fd-8509-33824d4c99a8",
   "metadata": {
    "language": "python",
    "name": "cell8"
   },
   "outputs": [],
   "source": "# Invoice period_end >= period_start\ninvalid_periods = (invoices[\"PERIOD_END\"] < invoices[\"PERIOD_START\"]).sum()\nprint(\"Invoices with period_end < period_start:\", invalid_periods)\n\n# Paid_date >= due_date\nmask = invoices[\"PAID_DATE\"].notna() & invoices[\"DUE_DATE\"].notna()\ninvalid_paid = (invoices.loc[mask, \"PAID_DATE\"] < invoices.loc[mask, \"DUE_DATE\"]).sum()\nprint(\"Invoices with paid_date < due_date:\", invalid_paid)\n\n# Trial_end >= trial_start\nmask = subscriptions[\"TRIAL_START\"].notna() & subscriptions[\"TRIAL_END\"].notna()\ninvalid_trials = (subscriptions.loc[mask, \"TRIAL_END\"] < subscriptions.loc[mask, \"TRIAL_START\"]).sum()\nprint(\"Subscriptions with trial_end < trial_start:\", invalid_trials)",
   "execution_count": null
  },
  {
   "cell_type": "code",
   "id": "e6657539-c8ab-425e-b353-c8ef91a7d4ae",
   "metadata": {
    "language": "sql",
    "name": "cell9",
    "collapsed": true,
    "codeCollapsed": true
   },
   "outputs": [],
   "source": "select * from invoices where paid_date < due_date limit 10;",
   "execution_count": null
  },
  {
   "cell_type": "code",
   "id": "d6767b17-371c-4194-a6b8-501a79695b21",
   "metadata": {
    "language": "python",
    "name": "cell10"
   },
   "outputs": [],
   "source": "print(\"Invoices date range:\", invoices[\"PERIOD_START\"].min(), \"to\", invoices[\"PERIOD_END\"].max())\nprint(\"Subscriptions date range:\", subscriptions[\"START_DATE\"].min(), \"to\", subscriptions[\"CANCEL_DATE\"].max())\n\n# timeline of the number of invoices\ninvoices[\"MONTH\"] = pd.to_datetime(invoices[\"PERIOD_END\"]).dt.to_period(\"M\")\ninv_by_month = invoices.groupby(\"MONTH\")[\"INVOICE_ID\"].count()\n\ninv_by_month.plot(kind=\"bar\", figsize=(10,4), title=\"Invoices per Month\")\nplt.show()\n",
   "execution_count": null
  },
  {
   "cell_type": "code",
   "id": "aa975fa6-930e-4699-97ea-3b54fe50d036",
   "metadata": {
    "language": "python",
    "name": "cell11"
   },
   "outputs": [],
   "source": "# Boxplot paid values\nplt.figure(figsize=(6,4))\nsns.boxplot(x=invoices[\"AMOUNT_PAID\"]/100.0)\nplt.title(\"Invoice Amount Paid (USD)\")\nplt.show()\n\n# top 5 overdue invoices\nprint(\"Top 5 invoices by days_past_due:\")\nprint(invoices[[\"CUSTOMER_ID\",\"INVOICE_ID\",\"DAYS_PAST_DUE\"]].sort_values(\"DAYS_PAST_DUE\", ascending=False).head())\n\n",
   "execution_count": null
  },
  {
   "cell_type": "code",
   "id": "81115fb8-8297-40d8-8ee6-f0778da2d918",
   "metadata": {
    "language": "sql",
    "name": "cell12"
   },
   "outputs": [],
   "source": "SELECT * from invoices where invoice_id = 'in_2bwz0lgfdw6gud'",
   "execution_count": null
  },
  {
   "cell_type": "code",
   "id": "21b56d07-b57d-4058-9b83-2da1447ee6f0",
   "metadata": {
    "language": "python",
    "name": "cell13"
   },
   "outputs": [],
   "source": "# Distribution of Days Past Due\nplt.figure(figsize=(6,4))\nsns.boxplot(x=invoices[\"DAYS_PAST_DUE\"].dropna())\nplt.title(\"Distribution of Days Past Due\")\nplt.show()",
   "execution_count": null
  }
 ]
}